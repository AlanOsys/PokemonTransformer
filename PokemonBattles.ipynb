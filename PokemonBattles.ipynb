{
 "cells": [
  {
   "cell_type": "code",
   "execution_count": 1,
   "metadata": {},
   "outputs": [],
   "source": [
    "from poke_env import RandomPlayer\n",
    "from poke_env.data import GenData\n",
    "\n",
    "# The RandomPlayer is a basic agent that makes decisions randomly,\n",
    "# serving as a starting point for more complex agent development.\n",
    "random_player = RandomPlayer()"
   ]
  },
  {
   "cell_type": "code",
   "execution_count": 2,
   "metadata": {},
   "outputs": [],
   "source": [
    "second_player = RandomPlayer()\n",
    "\n",
    "# The battle_against method initiates a battle between two players.\n",
    "# Here we are using asynchronous programming (await) to start the battle.\n",
    "await random_player.battle_against(second_player, n_battles=1)"
   ]
  },
  {
   "cell_type": "code",
   "execution_count": 3,
   "metadata": {},
   "outputs": [],
   "source": [
    "#from poke_env import PlayerConfiguration\n",
    "\n",
    "# No authentication required\n",
    "#my_account_config = PlayerConfiguration(\"doroknel\", None)\n",
    "#player = player(account_configuration=my_account_config)\n",
    "\n",
    "# Authentication required\n",
    "#my_account_config = PlayerConfiguration(\"doroknel\", \"Alan30092002\")\n",
    "#player = player(account_configuration=my_account_config, server_configuration=...)\n",
    "\n",
    "# Auto-generated configuration for local use\n",
    "#player = player()"
   ]
  },
  {
   "cell_type": "code",
   "execution_count": 4,
   "metadata": {},
   "outputs": [],
   "source": [
    "import numpy as np\n",
    "\n",
    "from poke_env.teambuilder import Teambuilder\n",
    "\n",
    "\n",
    "class RandomTeamFromPool(Teambuilder):\n",
    "    def __init__(self, teams):\n",
    "        self.packed_teams = []\n",
    "\n",
    "        for team in teams:\n",
    "            parsed_team = self.parse_showdown_team(team)\n",
    "            packed_team = self.join_team(parsed_team)\n",
    "            self.packed_teams.append(packed_team)\n",
    "\n",
    "    def yield_team(self):\n",
    "        return np.random.choice(self.packed_teams)"
   ]
  },
  {
   "cell_type": "code",
   "execution_count": 5,
   "metadata": {},
   "outputs": [
    {
     "name": "stdout",
     "output_type": "stream",
     "text": [
      "Togekiss||leftovers|serenegrace|airslash,nastyplot,substitute,thunderwave|Timid|248,,,8,,252||,0,,,,|||]Galvantula||focussash|compoundeyes|stickyweb,thunderwave,thunder,energyball|Timid|,,,252,4,252||,0,,,,|||]Cloyster||leftovers|skilllink|iciclespear,rockblast,iceshard,shellsmash|Adamant|,252,,,4,252|||||]Sandaconda||focussash|sandspit|stealthrock,glare,earthquake,rocktomb|Jolly|,252,,,4,252|||||]Excadrill||focussash|sandrush|ironhead,rockslide,earthquake,rapidspin|Adamant|,252,,,4,252|||||]Cinccino||leftovers|skilllink|bulletseed,knockoff,rockblast,tailslap|Jolly|,252,4,,,252|||||\n",
      "Togekiss||leftovers|serenegrace|airslash,nastyplot,substitute,thunderwave|Timid|248,,,8,,252||,0,,,,|||]Galvantula||focussash|compoundeyes|stickyweb,thunderwave,thunder,energyball|Timid|,,,252,4,252||,0,,,,|||]Cloyster||leftovers|skilllink|iciclespear,rockblast,iceshard,shellsmash|Adamant|,252,,,4,252|||||]Sandaconda||focussash|sandspit|stealthrock,glare,earthquake,rocktomb|Jolly|,252,,,4,252|||||]Excadrill||focussash|sandrush|ironhead,rockslide,earthquake,rapidspin|Adamant|,252,,,4,252|||||]Cinccino||leftovers|skilllink|bulletseed,knockoff,rockblast,tailslap|Jolly|,252,4,,,252|||||\n",
      "Goodra||assaultvest|sapsipper|dragonpulse,flamethrower,sludgewave,thunderbolt|Modest|248,,,252,,8|M|,0,,,,|||]Sylveon||leftovers|pixilate|hypervoice,mysticalfire,protect,wish|Calm|248,,244,,16,|M|,0,,,,|||]Cinderace||lifeorb|blaze|pyroball,suckerpunch,uturn,highjumpkick|Jolly|,252,,,4,252|M||||]Toxtricity||throatspray|punkrock|overdrive,boomburst,shiftgear,firepunch|Rash|,4,,252,,252|M||||]Seismitoad||leftovers|waterabsorb|stealthrock,scald,earthquake,toxic|Relaxed|252,,252,,4,|M||||]Corviknight||leftovers|pressure|defog,bravebird,roost,uturn|Impish|248,,,,80,180|M||||\n",
      "Togekiss||leftovers|serenegrace|airslash,nastyplot,substitute,thunderwave|Timid|248,,,8,,252||,0,,,,|||]Galvantula||focussash|compoundeyes|stickyweb,thunderwave,thunder,energyball|Timid|,,,252,4,252||,0,,,,|||]Cloyster||leftovers|skilllink|iciclespear,rockblast,iceshard,shellsmash|Adamant|,252,,,4,252|||||]Sandaconda||focussash|sandspit|stealthrock,glare,earthquake,rocktomb|Jolly|,252,,,4,252|||||]Excadrill||focussash|sandrush|ironhead,rockslide,earthquake,rapidspin|Adamant|,252,,,4,252|||||]Cinccino||leftovers|skilllink|bulletseed,knockoff,rockblast,tailslap|Jolly|,252,4,,,252|||||\n",
      "Togekiss||leftovers|serenegrace|airslash,nastyplot,substitute,thunderwave|Timid|248,,,8,,252||,0,,,,|||]Galvantula||focussash|compoundeyes|stickyweb,thunderwave,thunder,energyball|Timid|,,,252,4,252||,0,,,,|||]Cloyster||leftovers|skilllink|iciclespear,rockblast,iceshard,shellsmash|Adamant|,252,,,4,252|||||]Sandaconda||focussash|sandspit|stealthrock,glare,earthquake,rocktomb|Jolly|,252,,,4,252|||||]Excadrill||focussash|sandrush|ironhead,rockslide,earthquake,rapidspin|Adamant|,252,,,4,252|||||]Cinccino||leftovers|skilllink|bulletseed,knockoff,rockblast,tailslap|Jolly|,252,4,,,252|||||\n"
     ]
    }
   ],
   "source": [
    "team_1 = \"\"\"\n",
    "Goodra (M) @ Assault Vest\n",
    "Ability: Sap Sipper\n",
    "EVs: 248 HP / 252 SpA / 8 Spe\n",
    "Modest Nature\n",
    "IVs: 0 Atk\n",
    "- Dragon Pulse\n",
    "- Flamethrower\n",
    "- Sludge Wave\n",
    "- Thunderbolt\n",
    "\n",
    "Sylveon (M) @ Leftovers\n",
    "Ability: Pixilate\n",
    "EVs: 248 HP / 244 Def / 16 SpD\n",
    "Calm Nature\n",
    "IVs: 0 Atk\n",
    "- Hyper Voice\n",
    "- Mystical Fire\n",
    "- Protect\n",
    "- Wish\n",
    "\n",
    "Cinderace (M) @ Life Orb\n",
    "Ability: Blaze\n",
    "EVs: 252 Atk / 4 SpD / 252 Spe\n",
    "Jolly Nature\n",
    "- Pyro Ball\n",
    "- Sucker Punch\n",
    "- U-turn\n",
    "- High Jump Kick\n",
    "\n",
    "Toxtricity (M) @ Throat Spray\n",
    "Ability: Punk Rock\n",
    "EVs: 4 Atk / 252 SpA / 252 Spe\n",
    "Rash Nature\n",
    "- Overdrive\n",
    "- Boomburst\n",
    "- Shift Gear\n",
    "- Fire Punch\n",
    "\n",
    "Seismitoad (M) @ Leftovers\n",
    "Ability: Water Absorb\n",
    "EVs: 252 HP / 252 Def / 4 SpD\n",
    "Relaxed Nature\n",
    "- Stealth Rock\n",
    "- Scald\n",
    "- Earthquake\n",
    "- Toxic\n",
    "\n",
    "Corviknight (M) @ Leftovers\n",
    "Ability: Pressure\n",
    "EVs: 248 HP / 80 SpD / 180 Spe\n",
    "Impish Nature\n",
    "- Defog\n",
    "- Brave Bird\n",
    "- Roost\n",
    "- U-turn\n",
    "\"\"\"\n",
    "\n",
    "team_2 = \"\"\"\n",
    "Togekiss @ Leftovers\n",
    "Ability: Serene Grace\n",
    "EVs: 248 HP / 8 SpA / 252 Spe\n",
    "Timid Nature\n",
    "IVs: 0 Atk\n",
    "- Air Slash\n",
    "- Nasty Plot\n",
    "- Substitute\n",
    "- Thunder Wave\n",
    "\n",
    "Galvantula @ Focus Sash\n",
    "Ability: Compound Eyes\n",
    "EVs: 252 SpA / 4 SpD / 252 Spe\n",
    "Timid Nature\n",
    "IVs: 0 Atk\n",
    "- Sticky Web\n",
    "- Thunder Wave\n",
    "- Thunder\n",
    "- Energy Ball\n",
    "\n",
    "Cloyster @ Leftovers\n",
    "Ability: Skill Link\n",
    "EVs: 252 Atk / 4 SpD / 252 Spe\n",
    "Adamant Nature\n",
    "- Icicle Spear\n",
    "- Rock Blast\n",
    "- Ice Shard\n",
    "- Shell Smash\n",
    "\n",
    "Sandaconda @ Focus Sash\n",
    "Ability: Sand Spit\n",
    "EVs: 252 Atk / 4 SpD / 252 Spe\n",
    "Jolly Nature\n",
    "- Stealth Rock\n",
    "- Glare\n",
    "- Earthquake\n",
    "- Rock Tomb\n",
    "\n",
    "Excadrill @ Focus Sash\n",
    "Ability: Sand Rush\n",
    "EVs: 252 Atk / 4 SpD / 252 Spe\n",
    "Adamant Nature\n",
    "- Iron Head\n",
    "- Rock Slide\n",
    "- Earthquake\n",
    "- Rapid Spin\n",
    "\n",
    "Cinccino @ Leftovers\n",
    "Ability: Skill Link\n",
    "EVs: 252 Atk / 4 Def / 252 Spe\n",
    "Jolly Nature\n",
    "- Bullet Seed\n",
    "- Knock Off\n",
    "- Rock Blast\n",
    "- Tail Slap\n",
    "\"\"\"\n",
    "\n",
    "teams = [team_1, team_2]\n",
    "\n",
    "custom_builder = RandomTeamFromPool(teams)\n",
    "\n",
    "for _ in range(5):\n",
    "    print(custom_builder.yield_team())"
   ]
  },
  {
   "cell_type": "code",
   "execution_count": 6,
   "metadata": {},
   "outputs": [],
   "source": [
    "#pokemons = team_1.split(\"\\n\\n\") + team_2.split(\"\\n\\n\")\n",
    "f = open(\"BattlePokemon.txt\",\"r\",encoding=\"utf-8\")\n",
    "pokemons = f.read().split(\"\\n\\n\")\n",
    "pokemons = [pokemon.strip() for pokemon in sorted(pokemons)][1:]\n",
    "#pokemons"
   ]
  },
  {
   "cell_type": "code",
   "execution_count": 7,
   "metadata": {},
   "outputs": [
    {
     "name": "stdout",
     "output_type": "stream",
     "text": [
      "Rhyperior||weaknesspolicy|intimidate|snarl,protect,flareblitz,partingshot|Serious|,,4,,,|||||]Palossand||assaultvest|weakarmor|rockwrecker,rockslide,earthquake,xscissor|Serious|,4,,,,|||||]Scyther||focussash|drizzle|scald,hurricane,tailwind,wideguard|Calm|252,,,,4,|||||]Runerigus||assaultvest|weakarmor|rockwrecker,rockslide,earthquake,xscissor|Serious|,4,,,,|||||]Regigigas||choicescarf|innerfocus|sacredfire,extremespeed,stoneedge,crunch|Relaxed|252,,,252,,|||||]Hitmontop||assaultvest|defiant|ironhead,earthquake,seedbomb,closecombat|Adamant|4,,252,,,|||||\n",
      "237\n",
      "Aerodactyl||focussash|waterbubble|entrainment,wideguard,liquidation,leechlife|Lax|,,252,,,|||||]Trevenant||focussash|disguise|psychic,willowisp,energyball,speedswap|Timid|252,,,,4,|||||]Lapras||focussash|defiant|lashout,suckerpunch,ironhead,lowkick|Jolly|,,252,,,|||||]Poliwrath||lifeorb|defiant|thunderouskick,detect,stompingtantrum,bravebird|Jolly|24,,252,,,|||||]Coalossal||weaknesspolicy|steamengine|meteorbeam,protect,heatwave,solarbeam|Modest|252,,,,68,|||||]Abomasnow||focussash|chlorophyll|strengthsap,sleeppowder,sludgebomb,afteryou|Modest|,,,252,,|||||\n"
     ]
    }
   ],
   "source": [
    "class RandomTeamFromPool(Teambuilder):\n",
    "    def __init__(self, pokemons):\n",
    "        self.pokemons = []\n",
    "\n",
    "        for pokemon in pokemons:\n",
    "            parsed_mons = self.parse_showdown_team(pokemon)\n",
    "            self.pokemons.append(parsed_mons[0])\n",
    "\n",
    "        self.n_pokemons = len(self.pokemons)\n",
    "        assert self.n_pokemons >= 6\n",
    "\n",
    "    def yield_team(self):\n",
    "        idxs = np.random.choice(self.n_pokemons, 6, replace=False)\n",
    "        team = [self.pokemons[idx] for idx in idxs]\n",
    "\n",
    "        return self.join_team(team)\n",
    "    def yield_team_for_a_mons(self,pokemonIdx=None):\n",
    "        #print(len(str(self.pokemons).replace(\"[\",\"\").replace(\"]\",\"\").split(\"|||||\")[:-1]))\n",
    "        if pokemonIdx == None:\n",
    "            picked_idx = np.random.choice(self.n_pokemons, 1, replace=False)\n",
    "        else:\n",
    "            picked_idx = [pokemonIdx]\n",
    "        picked_mon = [self.pokemons[idx] for idx in picked_idx]\n",
    "        #print(picked_mon,picked_idx)\n",
    "        idxs = [picked_idx]\n",
    "        while(picked_idx in idxs):\n",
    "            idxs = np.random.choice(self.n_pokemons, 5, replace=False)\n",
    "        #print(idxs)\n",
    "        team = [self.pokemons[idx] for idx in idxs]\n",
    "        team.append(picked_mon[0])\n",
    "        return self.join_team(team)\n",
    "\n",
    "\n",
    "custom_builder = RandomTeamFromPool(pokemons)\n",
    "print(custom_builder.yield_team_for_a_mons())\n",
    "#use this ^ to generate like 10 teams for one mon at first\n",
    "#then do this for 20 mons\n",
    "teams_per_mon = []\n",
    "for i in range (0,len(pokemons)):\n",
    "    teams = []\n",
    "    for j in range(0,10):\n",
    "        #print(custom_builder.yield_team_for_a_mons(i))\n",
    "        teams.append(custom_builder.yield_team_for_a_mons(i))\n",
    "    teams_per_mon.append(teams)\n",
    "print(len(teams_per_mon))\n",
    "    \n",
    "#for i in teams_per_mon[0]:\n",
    " #   print(i)\n",
    "print(teams_per_mon[0][0])\n",
    "\n",
    "\n",
    "\n",
    "\n",
    "\n",
    "#for _ in range(5):\n",
    " #   print(custom_builder.yield_team())\n",
    "\n",
    "###Change this to take one pokemon and create 20 teams for 10 different movesets for it\n"
   ]
  },
  {
   "cell_type": "code",
   "execution_count": 8,
   "metadata": {},
   "outputs": [
    {
     "name": "stderr",
     "output_type": "stream",
     "text": [
      "2024-10-12 18:43:27,394 - RandomPlayer 58 - WARNING - Unmanaged [from]move message received - move Round in cleaned up message ['', 'move', 'p1a: Araquanid', 'Round', 'p2a: Jellicent'] in battle battle-gen9customgame-788567 turn 55\n",
      "2024-10-12 18:43:27,396 - RandomPlayer 57 - WARNING - Unmanaged [from]move message received - move Round in cleaned up message ['', 'move', 'p1a: Araquanid', 'Round', 'p2a: Jellicent'] in battle battle-gen9customgame-788567 turn 55\n"
     ]
    },
    {
     "name": "stdout",
     "output_type": "stream",
     "text": [
      "234\n",
      "Zapdos @ Life Orb\n",
      "Ability: Inner Focus\n",
      "EVs: 0 HP / 252 Atk / 0 Def / 0 SpA / 0 SpD / 0 Spe\n",
      "Lonely Nature \n",
      "- Coaching\n",
      "- Ally Switch\n",
      "- Close Combat\n",
      "- Wide Guard\n"
     ]
    },
    {
     "name": "stderr",
     "output_type": "stream",
     "text": [
      "2024-10-12 18:45:23,367 - RandomPlayer 129 - WARNING - Unmanaged [from]move message received - move Round in cleaned up message ['', 'move', 'p1a: Oranguru', 'Round', 'p2a: Oranguru'] in battle battle-gen9customgame-788934 turn 26\n",
      "2024-10-12 18:45:23,369 - RandomPlayer 130 - WARNING - Unmanaged [from]move message received - move Round in cleaned up message ['', 'move', 'p1a: Oranguru', 'Round', 'p2a: Oranguru'] in battle battle-gen9customgame-788934 turn 26\n"
     ]
    },
    {
     "name": "stdout",
     "output_type": "stream",
     "text": [
      "235\n",
      "Zekrom @ Life Orb\n",
      "Ability: Pressure\n",
      "EVs: 108 HP / 0 Atk / 0 Def / 0 SpA / 0 SpD / 0 Spe\n",
      "Timid Nature \n",
      "- Dragon Pulse\n",
      "- Roar Of Time\n",
      "- Flash Cannon\n",
      "- Power Gem\n"
     ]
    },
    {
     "name": "stderr",
     "output_type": "stream",
     "text": [
      "2024-10-12 18:47:45,100 - RandomPlayer 209 - WARNING - Unmanaged [from]move message received - move Round in cleaned up message ['', 'move', 'p1a: Golisopod', 'Round', 'p2a: Oranguru'] in battle battle-gen9customgame-789333 turn 50\n",
      "2024-10-12 18:47:45,102 - RandomPlayer 210 - WARNING - Unmanaged [from]move message received - move Round in cleaned up message ['', 'move', 'p1a: Golisopod', 'Round', 'p2a: Oranguru'] in battle battle-gen9customgame-789333 turn 50\n"
     ]
    },
    {
     "name": "stdout",
     "output_type": "stream",
     "text": [
      "236\n",
      "Zoroark @ Focus Sash\n",
      "Ability: Speed Boost\n",
      "EVs: 0 HP / 252 Atk / 0 Def / 0 SpA / 0 SpD / 0 Spe\n",
      "Jolly Nature \n",
      "- Flip Turn\n",
      "- Protect\n",
      "- Bounce\n",
      "- Crunch\n"
     ]
    }
   ],
   "source": [
    "#then run 5 games for each team against each other team\n",
    "import sys\n",
    "import asyncio\n",
    "from poke_env.player import RandomPlayer\n",
    "import random\n",
    "if sys.platform == 'win32':\n",
    "    loop = asyncio.ProactorEventLoop()\n",
    "    asyncio.set_event_loop(loop)\n",
    "\n",
    "All_winrates = []\n",
    "try:\n",
    "    f = open(\"PokemonWinratesFile5.txt\",\"r\",encoding=\"utf-8\")\n",
    "\n",
    "    no_lines = len(f.readlines())\n",
    "    f.close()\n",
    "except:\n",
    "    no_lines = 0\n",
    "\n",
    "for i in range(no_lines,len(teams_per_mon)):\n",
    "    Pokemon_winrates = []\n",
    "    for j in range(0,len(teams_per_mon[i])):\n",
    "        \n",
    "        \n",
    "        #for l in range(0,len(teams_per_mon)):\n",
    "            #for o in range(0,len(teams_per_mon[l])):\n",
    "        for _ in range (0,5):\n",
    "            l = random.randint(0,len(teams_per_mon)-1)\n",
    "            o = random.randint(0,len(teams_per_mon[l])-1)\n",
    "            player_1 = RandomPlayer(\n",
    "                battle_format=\"gen9customgame\",\n",
    "                team=teams_per_mon[i][j],\n",
    "                max_concurrent_battles=10,\n",
    "            )\n",
    "            player_2 = RandomPlayer(\n",
    "                battle_format=\"gen9customgame\",\n",
    "                team=teams_per_mon[l][o],\n",
    "                max_concurrent_battles=10,\n",
    "            )\n",
    "\n",
    "            await player_1.battle_against(player_2, n_battles=10)\n",
    "            Pokemon_winrates.append(player_1.n_won_battles/10*100)\n",
    "        \n",
    "        #print(player_1.n_won_battles/10*100)\n",
    "        All_winrates.append(Pokemon_winrates)\n",
    "    print(i)\n",
    "    print(pokemons[i])\n",
    "    f = open(\"PokemonWinratesFile5.txt\",\"a\",encoding=\"utf-8\")\n",
    "    f.write(str(Pokemon_winrates)+\"\\n\")\n",
    "    f.close()\n",
    "\n",
    "\n",
    "\n",
    "#print(All_winrates[0])\n",
    "\n",
    "#then extrapolate the winrate(%) for each mon\n",
    "#then create a table of each pokemons winrate\n"
   ]
  },
  {
   "cell_type": "code",
   "execution_count": 9,
   "metadata": {},
   "outputs": [
    {
     "name": "stdout",
     "output_type": "stream",
     "text": [
      "48.4\n"
     ]
    }
   ],
   "source": [
    "print(np.average(Pokemon_winrates))"
   ]
  },
  {
   "cell_type": "code",
   "execution_count": 10,
   "metadata": {},
   "outputs": [
    {
     "name": "stdout",
     "output_type": "stream",
     "text": [
      "6\n",
      "3\n",
      "5\n",
      "4\n",
      "4\n"
     ]
    }
   ],
   "source": [
    "for i in range(0,5):\n",
    "    player_1 = RandomPlayer(\n",
    "                battle_format=\"gen9customgame\",\n",
    "                team=teams_per_mon[0][0],\n",
    "                max_concurrent_battles=10,\n",
    "            )\n",
    "    player_2 = RandomPlayer(\n",
    "        battle_format=\"gen9customgame\",\n",
    "        team=teams_per_mon[0][0],\n",
    "        max_concurrent_battles=10,\n",
    "    )\n",
    "    await player_1.battle_against(player_2, n_battles=10)\n",
    "    print(player_1.n_won_battles)\n"
   ]
  },
  {
   "cell_type": "code",
   "execution_count": null,
   "metadata": {},
   "outputs": [],
   "source": []
  },
  {
   "cell_type": "code",
   "execution_count": 11,
   "metadata": {},
   "outputs": [
    {
     "name": "stdout",
     "output_type": "stream",
     "text": [
      "Togetic||eviolite|serenegrace|lifedew,followme,encore,afteryou|Calm|252,,,132,,|||||]Porygon-Z||choicescarf|innerfocus|sacredfire,extremespeed,stoneedge,crunch|Relaxed|252,,,252,,|||||]Ribombee||focussash|corrosion|sludgewave,fakeout,faketears,heatwave|Timid|252,,,,,4|||||]Tyrantrum||lifeorb|pressure|dragonpulse,roaroftime,flashcannon,powergem|Timid|108,,,,,|||||]Emolga||focussash|levitate|darkpulse,thunder,blizzard,thunderbolt|Sassy|,,252,,,|||||]Gastrodon||weaknesspolicy|intimidate|snarl,protect,flareblitz,partingshot|Serious|,,4,,,|||||\n"
     ]
    }
   ],
   "source": [
    "team1 = custom_builder.yield_team()\n",
    "team2 = custom_builder.yield_team()\n",
    "print(team1)"
   ]
  },
  {
   "cell_type": "code",
   "execution_count": 12,
   "metadata": {},
   "outputs": [
    {
     "name": "stdout",
     "output_type": "stream",
     "text": [
      "Dedenne||lifeorb|voltabsorb|grassknot,risingvoltage,hyperbeam,fly|Timid|164,,,,92,|||||]Palkia||aguavberry|waterabsorb|crabhammer,willowisp,trickroom,shadowsneak|Adamant|,252,,,,|||||]Golurk||roomservice|wanderingspirit|phantomforce,trickroom,bodypress,allyswitch|Relaxed|252,,,44,,|||||]Gengar||assaultvest|intimidate|acidspray,icywind,surf,aquajet|Modest|4,,,,,|||||]Tentacruel||assaultvest|intimidate|acidspray,icywind,surf,aquajet|Modest|4,,,,,|||||]Excadrill||weaknesspolicy|intimidate|snarl,protect,flareblitz,partingshot|Serious|,,4,,,|||||\n"
     ]
    }
   ],
   "source": [
    "print(team2)"
   ]
  },
  {
   "cell_type": "code",
   "execution_count": 13,
   "metadata": {},
   "outputs": [
    {
     "name": "stdout",
     "output_type": "stream",
     "text": [
      "Max damage player won 0 / 100 battles\n",
      "Player RandomPlayer 313 won 0 out of 10 played\n",
      "Player RandomPlayer 314 won 10 out of 10 played\n",
      "False\n",
      "False\n",
      "False\n",
      "False\n",
      "False\n",
      "False\n",
      "False\n",
      "False\n",
      "False\n",
      "False\n"
     ]
    }
   ],
   "source": [
    "from poke_env.player import RandomPlayer\n",
    "\n",
    "player_1 = RandomPlayer(\n",
    "    battle_format=\"gen9customgame\",\n",
    "    team=team1,\n",
    "    max_concurrent_battles=10,\n",
    ")\n",
    "player_2 = RandomPlayer(\n",
    "    battle_format=\"gen9customgame\",\n",
    "    team=team2,\n",
    "    max_concurrent_battles=10,\n",
    ")\n",
    "\n",
    "await player_1.battle_against(player_2, n_battles=10)\n",
    "\n",
    "# Displaying results\n",
    "print(f\"Max damage player won {player_1.n_won_battles} / 100 battles\")\n",
    "# n_won_battles and n_finished_battles\n",
    "\n",
    "print(\n",
    "    f\"Player {player_1.username} won {player_1.n_won_battles} out of {player_1.n_finished_battles} played\"\n",
    ")\n",
    "print(\n",
    "    f\"Player {player_2.username} won {player_2.n_won_battles} out of {player_2.n_finished_battles} played\"\n",
    ")\n",
    "\n",
    "# Looping over battles\n",
    "\n",
    "for battle_tag, battle in player_1.battles.items():\n",
    "    print(battle.won)"
   ]
  },
  {
   "cell_type": "code",
   "execution_count": null,
   "metadata": {},
   "outputs": [],
   "source": []
  },
  {
   "cell_type": "code",
   "execution_count": 14,
   "metadata": {},
   "outputs": [],
   "source": [
    "from poke_env.player import Player\n",
    "\n",
    "\n",
    "class MaxDamagePlayer(Player):\n",
    "    def choose_move(self, battle):\n",
    "        # Chooses a move with the highest base power when possible\n",
    "        if battle.available_moves:\n",
    "            # Iterating over available moves to find the one with the highest base power\n",
    "            best_move = max(battle.available_moves, key=lambda move: move.base_power)\n",
    "            # Creating an order for the selected move\n",
    "            return self.create_order(best_move)\n",
    "        else:\n",
    "            # If no attacking move is available, perform a random switch\n",
    "            # This involves choosing a random move, which could be a switch or another available action\n",
    "            return self.choose_random_move(battle)"
   ]
  },
  {
   "cell_type": "code",
   "execution_count": 15,
   "metadata": {},
   "outputs": [],
   "source": [
    "import numpy as np\n",
    "\n",
    "\n",
    "def teampreview_performance(mon_a, mon_b):\n",
    "    # We evaluate the performance on mon_a against mon_b as its type advantage\n",
    "    a_on_b = b_on_a = -np.inf\n",
    "    for type_ in mon_a.types:\n",
    "        if type_:\n",
    "            a_on_b = max(\n",
    "                a_on_b,\n",
    "                type_.damage_multiplier(\n",
    "                    *mon_b.types, type_chart=GenData.from_gen(8).type_chart\n",
    "                ),\n",
    "            )\n",
    "    # We do the same for mon_b over mon_a\n",
    "    for type_ in mon_b.types:\n",
    "        if type_:\n",
    "            b_on_a = max(\n",
    "                b_on_a,\n",
    "                type_.damage_multiplier(\n",
    "                    *mon_a.types, type_chart=GenData.from_gen(8).type_chart\n",
    "                ),\n",
    "            )\n",
    "    # Our performance metric is the different between the two\n",
    "    return a_on_b - b_on_a\n",
    "\n",
    "\n",
    "class MaxDamagePlayerWithTeampreview(MaxDamagePlayer):\n",
    "    def teampreview(self, battle):\n",
    "        mon_performance = {}\n",
    "\n",
    "        # For each of our pokemons\n",
    "        for i, mon in enumerate(battle.team.values()):\n",
    "            # We store their average performance against the opponent team\n",
    "            mon_performance[i] = np.mean(\n",
    "                [\n",
    "                    teampreview_performance(mon, opp)\n",
    "                    for opp in battle.opponent_team.values()\n",
    "                ]\n",
    "            )\n",
    "\n",
    "        # We sort our mons by performance\n",
    "        ordered_mons = sorted(mon_performance, key=lambda k: -mon_performance[k])\n",
    "\n",
    "        # We start with the one we consider best overall\n",
    "        # We use i + 1 as python indexes start from 0\n",
    "        #  but showdown's indexes start from 1\n",
    "        return \"/team \" + \"\".join([str(i + 1) for i in ordered_mons])\n",
    "\n",
    "\n",
    "p3 = MaxDamagePlayerWithTeampreview(battle_format=\"gen9customgame\", team=custom_builder)\n",
    "p4 = MaxDamagePlayerWithTeampreview(battle_format=\"gen9customgame\", team=custom_builder)\n",
    "\n",
    "#await p3.battle_against(p4, n_battles=10)"
   ]
  },
  {
   "cell_type": "code",
   "execution_count": 16,
   "metadata": {},
   "outputs": [
    {
     "name": "stdout",
     "output_type": "stream",
     "text": [
      "Max damage player won 0 / 100 battles\n",
      "Player MaxDamagePlayer 1 won 0 out of 0 played\n",
      "Player MaxDamagePlayer 2 won 0 out of 0 played\n"
     ]
    }
   ],
   "source": [
    "# Creating players\n",
    "player_1 = MaxDamagePlayer()\n",
    "player_2 = MaxDamagePlayer()\n",
    "\n",
    "# Running battles\n",
    "#await player_1.battle_against(player_2, n_battles=100)\n",
    "\n",
    "# Displaying results\n",
    "print(f\"Max damage player won {player_1.n_won_battles} / 100 battles\")\n",
    "# n_won_battles and n_finished_battles\n",
    "\n",
    "print(\n",
    "    f\"Player {player_1.username} won {player_1.n_won_battles} out of {player_1.n_finished_battles} played\"\n",
    ")\n",
    "print(\n",
    "    f\"Player {player_2.username} won {player_2.n_won_battles} out of {player_2.n_finished_battles} played\"\n",
    ")\n",
    "\n",
    "# Looping over battles\n",
    "\n",
    "for battle_tag, battle in player_1.battles.items():\n",
    "    print(battle.won)"
   ]
  },
  {
   "cell_type": "code",
   "execution_count": null,
   "metadata": {},
   "outputs": [],
   "source": []
  },
  {
   "cell_type": "code",
   "execution_count": 17,
   "metadata": {},
   "outputs": [
    {
     "data": {
      "text/plain": [
       "{'RandomPlayer 1': {'RandomPlayer 1': None,\n",
       "  'RandomPlayer 2': 0.3333333333333333,\n",
       "  'RandomPlayer 315': 0.4},\n",
       " 'RandomPlayer 2': {'RandomPlayer 1': 0.6666666666666666,\n",
       "  'RandomPlayer 2': None,\n",
       "  'RandomPlayer 315': 0.6},\n",
       " 'RandomPlayer 315': {'RandomPlayer 1': 0.6,\n",
       "  'RandomPlayer 2': 0.4,\n",
       "  'RandomPlayer 315': None}}"
      ]
     },
     "execution_count": 17,
     "metadata": {},
     "output_type": "execute_result"
    }
   ],
   "source": [
    "from poke_env import cross_evaluate\n",
    "\n",
    "third_player = RandomPlayer()\n",
    "\n",
    "players = [random_player, second_player, third_player]\n",
    "\n",
    "cross_evaluation = await cross_evaluate(players, n_challenges=5)\n",
    "cross_evaluation"
   ]
  },
  {
   "cell_type": "code",
   "execution_count": 18,
   "metadata": {},
   "outputs": [
    {
     "name": "stdout",
     "output_type": "stream",
     "text": [
      "----------------  ------------------  ------------------  ----------------\n",
      "-                 RandomPlayer 1      RandomPlayer 2      RandomPlayer 315\n",
      "RandomPlayer 1                        0.3333333333333333  0.4\n",
      "RandomPlayer 2    0.6666666666666666                      0.6\n",
      "RandomPlayer 315  0.6                 0.4\n",
      "----------------  ------------------  ------------------  ----------------\n"
     ]
    }
   ],
   "source": [
    "from tabulate import tabulate\n",
    "\n",
    "table = [[\"-\"] + [p.username for p in players]]\n",
    "for p_1, results in cross_evaluation.items():\n",
    "    table.append([p_1] + [cross_evaluation[p_1][p_2] for p_2 in results])\n",
    "\n",
    "print(tabulate(table))"
   ]
  },
  {
   "cell_type": "code",
   "execution_count": null,
   "metadata": {},
   "outputs": [],
   "source": []
  }
 ],
 "metadata": {
  "kernelspec": {
   "display_name": "Python 3",
   "language": "python",
   "name": "python3"
  },
  "language_info": {
   "codemirror_mode": {
    "name": "ipython",
    "version": 3
   },
   "file_extension": ".py",
   "mimetype": "text/x-python",
   "name": "python",
   "nbconvert_exporter": "python",
   "pygments_lexer": "ipython3",
   "version": "3.10.8"
  }
 },
 "nbformat": 4,
 "nbformat_minor": 2
}
